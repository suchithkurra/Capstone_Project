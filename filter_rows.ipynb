{
 "cells": [
  {
   "cell_type": "code",
   "execution_count": 2,
   "metadata": {},
   "outputs": [
    {
     "name": "stdout",
     "output_type": "stream",
     "text": [
      "         Unnamed: 0  type       rcvTime        pos_0        pos_1  \\\n",
      "2          16301268     3  27795.101957     0.000000     0.000000   \n",
      "8          12740924     2  25600.000000   219.613950   387.772895   \n",
      "12          4727235     3  26731.864754     0.000000     0.000000   \n",
      "13         11507000     3  50524.642530  1323.106209  1022.025435   \n",
      "16          7881325     3  26875.888419  1034.702441   940.151677   \n",
      "...             ...   ...           ...          ...          ...   \n",
      "1999977    20050542     3  25634.658830   922.174255   663.941645   \n",
      "1999983    11363904     2  26396.000000   952.316034   899.118831   \n",
      "1999986     3239973     2  50623.000000   174.035040   890.688700   \n",
      "1999996      338256     3  52055.894626   217.137758   387.349243   \n",
      "1999997    16261323     3  26835.806431   513.334695   627.488615   \n",
      "\n",
      "         pos_noise_0  pos_noise_1      spd_0      spd_1  spd_noise_0  ...  \\\n",
      "2           0.000000     0.000000   0.000000   0.000000     0.000000  ...   \n",
      "8           4.112592     3.827159   0.000039   0.000039    -0.000000  ...   \n",
      "12          0.000000     0.000000   0.000000   0.000000     0.000000  ...   \n",
      "13          3.834727     3.847142  -8.765487 -13.811971     0.006907  ...   \n",
      "16          4.210979     4.012652  12.093256   3.113275     0.023938  ...   \n",
      "...              ...          ...        ...        ...          ...  ...   \n",
      "1999977     4.991811     4.669596   7.846706  -7.961295     0.016869  ...   \n",
      "1999983     3.831273     3.216222  11.415266   9.119092     0.008219  ...   \n",
      "1999986     4.521463     4.805002   0.000323   0.000323    -0.000000  ...   \n",
      "1999996     4.063408     4.270411   0.000024   0.000024     0.000000  ...   \n",
      "1999997     4.522012     4.356163  -9.502236  -8.365710    -0.004690  ...   \n",
      "\n",
      "            acl_0     acl_1  acl_noise_0  acl_noise_1     hed_0     hed_1  \\\n",
      "2        0.000000  0.000000     0.000000     0.000000  0.000000  0.000000   \n",
      "8        0.000109  0.000109     0.000000     0.000000 -0.014638  0.999893   \n",
      "12       0.000000  0.000000     0.000000     0.000000  0.000000  0.000000   \n",
      "13       0.193792  0.305245     0.000004     0.000007 -0.643989 -0.765035   \n",
      "16      -0.025735 -0.004943     0.000143     0.000135  0.972751  0.231851   \n",
      "...           ...       ...          ...          ...       ...       ...   \n",
      "1999977 -3.156683  3.207096     0.003618     0.003673  0.556299 -0.830982   \n",
      "1999983  0.076975  0.061561     0.000413     0.000517  0.788930  0.614483   \n",
      "1999986  0.002069  0.002069     0.000000     0.000000 -0.991547 -0.129744   \n",
      "1999996  0.000008  0.000008     0.000000     0.000000 -0.102731  0.994709   \n",
      "1999997  0.289373  0.254774     0.000358     0.000408 -0.954821 -0.297182   \n",
      "\n",
      "         hed_noise_0  hed_noise_1  attack      attack_type  \n",
      "2           0.000000     0.000000       0  DelayedMessages  \n",
      "8          13.963458    13.963458       0  DelayedMessages  \n",
      "12          0.000000     0.000000       0  DelayedMessages  \n",
      "13         45.667953    75.644538       1       DataReplay  \n",
      "16          1.659260     4.072959       1  DataReplaySybil  \n",
      "...              ...          ...     ...              ...  \n",
      "1999977     5.026209    24.421556       0  DataReplaySybil  \n",
      "1999983     0.630937     0.793794       0              DoS  \n",
      "1999986     0.133362     0.133362       0       DataReplay  \n",
      "1999996     5.118358     5.118358       0        RandomPos  \n",
      "1999997    43.401397    38.738699       1              DoS  \n",
      "\n",
      "[524379 rows x 21 columns]\n"
     ]
    }
   ],
   "source": [
    "import pandas as pd\n",
    "\n",
    "# Load the dataset (replace 'veremi.csv' with your actual file)\n",
    "df = pd.read_csv('/Users/suchithkurra/Desktop/capstone /sampled_dataset2.csv')\n",
    "\n",
    "# List of the 5 attack types you want to filter\n",
    "attack_types_to_keep = ['DataReplay', 'DelayedMessages', 'DoS', 'DataReplaySybil', 'RandomPos']\n",
    "\n",
    "# Filter the dataset by keeping only the rows with these attack ypes\n",
    "filtered_df = df[df['attack_type'].isin(attack_types_to_keep)]\n",
    "\n",
    "# Display the filtered dataset\n",
    "print(filtered_df)\n",
    "\n",
    "# Optionally, save the filtered dataset to a new CSV file\n",
    "filtered_df.to_csv('/Users/suchithkurra/Desktop/capstone /filtered_veremi.csv', index=False)\n"
   ]
  }
 ],
 "metadata": {
  "kernelspec": {
   "display_name": "Python 3",
   "language": "python",
   "name": "python3"
  },
  "language_info": {
   "codemirror_mode": {
    "name": "ipython",
    "version": 3
   },
   "file_extension": ".py",
   "mimetype": "text/x-python",
   "name": "python",
   "nbconvert_exporter": "python",
   "pygments_lexer": "ipython3",
   "version": "3.11.4"
  }
 },
 "nbformat": 4,
 "nbformat_minor": 2
}
