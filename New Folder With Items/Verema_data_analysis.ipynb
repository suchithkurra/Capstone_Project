{
 "cells": [
  {
   "cell_type": "code",
   "execution_count": 1,
   "metadata": {},
   "outputs": [],
   "source": [
    "import pandas as pd"
   ]
  },
  {
   "cell_type": "code",
   "execution_count": 2,
   "metadata": {},
   "outputs": [],
   "source": [
    "df = pd.read_csv(\"/Users/suchithkurra/Downloads/Veremi_final_dataset.csv\")"
   ]
  },
  {
   "cell_type": "code",
   "execution_count": 3,
   "metadata": {},
   "outputs": [
    {
     "name": "stdout",
     "output_type": "stream",
     "text": [
      "Index(['Unnamed: 0', 'type', 'rcvTime', 'pos_0', 'pos_1', 'pos_noise_0',\n",
      "       'pos_noise_1', 'spd_0', 'spd_1', 'spd_noise_0', 'spd_noise_1', 'acl_0',\n",
      "       'acl_1', 'acl_noise_0', 'acl_noise_1', 'hed_0', 'hed_1', 'hed_noise_0',\n",
      "       'hed_noise_1', 'attack', 'attack_type'],\n",
      "      dtype='object')\n"
     ]
    }
   ],
   "source": [
    "print(df.columns)"
   ]
  },
  {
   "cell_type": "code",
   "execution_count": 4,
   "metadata": {},
   "outputs": [
    {
     "name": "stdout",
     "output_type": "stream",
     "text": [
      "Number of rows: 22165610\n"
     ]
    }
   ],
   "source": [
    "print(f\"Number of rows: {len(df)}\")\n"
   ]
  },
  {
   "cell_type": "code",
   "execution_count": 5,
   "metadata": {},
   "outputs": [],
   "source": [
    "\n",
    "# Randomly sample 20,000 rows without replacement\n",
    "df_sampled = df.sample(n=6000000, random_state=42)\n",
    "\n",
    "# Save the sampled dataset to a new CSV file\n",
    "df_sampled.to_csv('/Users/suchithkurra/Downloads/sampled_dataset3.csv', index=False)"
   ]
  },
  {
   "cell_type": "markdown",
   "metadata": {},
   "source": [
    "Ensuring All types of Attacks are included in the Sampled Dataset"
   ]
  },
  {
   "cell_type": "code",
   "execution_count": 6,
   "metadata": {},
   "outputs": [
    {
     "name": "stdout",
     "output_type": "stream",
     "text": [
      "Unique attack types: ['RandomSpeedOffset' 'DataReplay' 'DoSDisruptive' 'DoS' 'GridSybil'\n",
      " 'ConstPosOffset' 'DataReplaySybil' 'DelayedMessages' 'ConstSpeedOffset'\n",
      " 'DoSDisruptiveSybil' 'RandomSpeed' 'RandomPosOffset' 'RandomPos'\n",
      " 'Disruptive' 'EventualStop' 'ConstPos' 'ConstSpeed' 'DoSRandom'\n",
      " 'DoSRandomSybil']\n",
      "Number of different attack types: 19\n",
      "Unique attack types: ['GridSybil' 'DoSDisruptive' 'DelayedMessages' 'RandomSpeedOffset'\n",
      " 'ConstPosOffset' 'EventualStop' 'RandomPosOffset' 'DataReplay'\n",
      " 'DoSDisruptiveSybil' 'ConstPos' 'DataReplaySybil' 'DoSRandom'\n",
      " 'DoSRandomSybil' 'RandomPos' 'RandomSpeed' 'DoS' 'ConstSpeed'\n",
      " 'Disruptive' 'ConstSpeedOffset']\n",
      "Number of different attack types: 19\n"
     ]
    }
   ],
   "source": [
    "\n",
    "# Get the unique values in the 'attack_type' column\n",
    "unique_attack_types = df['attack_type'].unique()\n",
    "\n",
    "# Print the unique values and the count of unique attack types\n",
    "print(f\"Unique attack types: {unique_attack_types}\")\n",
    "print(f\"Number of different attack types: {len(unique_attack_types)}\")\n",
    "\n",
    "\n",
    "\n",
    "# Get the unique values in the 'attack_type' column\n",
    "unique_attack_types_sampled = df_sampled['attack_type'].unique()\n",
    "\n",
    "# Print the unique values and the count of unique attack types\n",
    "print(f\"Unique attack types: {unique_attack_types_sampled}\")\n",
    "print(f\"Number of different attack types: {len(unique_attack_types_sampled)}\")"
   ]
  },
  {
   "cell_type": "code",
   "execution_count": 7,
   "metadata": {},
   "outputs": [
    {
     "name": "stdout",
     "output_type": "stream",
     "text": [
      "attack_type\n",
      "GridSybil             1246576\n",
      "DoS                   1228655\n",
      "DoSDisruptive         1224482\n",
      "DoSRandom             1223169\n",
      "DoSDisruptiveSybil    1185897\n",
      "DoSRandomSybil        1185897\n",
      "DataReplaySybil       1143918\n",
      "DelayedMessages       1143918\n",
      "ConstSpeedOffset      1143918\n",
      "DataReplay            1143918\n",
      "RandomSpeed           1143918\n",
      "RandomPosOffset       1143918\n",
      "RandomPos             1143918\n",
      "Disruptive            1143918\n",
      "EventualStop          1143918\n",
      "ConstPos              1143918\n",
      "ConstSpeed            1143918\n",
      "ConstPosOffset        1143918\n",
      "RandomSpeedOffset     1143918\n",
      "Name: count, dtype: int64\n"
     ]
    }
   ],
   "source": [
    "# Get the count of each unique value in the 'attack_type' column\n",
    "attack_type_counts = df['attack_type'].value_counts()\n",
    "\n",
    "# Print the counts\n",
    "print(attack_type_counts)"
   ]
  },
  {
   "cell_type": "code",
   "execution_count": 8,
   "metadata": {},
   "outputs": [
    {
     "name": "stdout",
     "output_type": "stream",
     "text": [
      "attack_type\n",
      "GridSybil             337726\n",
      "DoS                   332657\n",
      "DoSDisruptive         330914\n",
      "DoSRandom             330692\n",
      "DoSDisruptiveSybil    321417\n",
      "DoSRandomSybil        320861\n",
      "ConstPosOffset        310624\n",
      "RandomPosOffset       310310\n",
      "DelayedMessages       310213\n",
      "DataReplaySybil       310096\n",
      "RandomPos             309953\n",
      "EventualStop          309818\n",
      "ConstPos              309582\n",
      "DataReplay            309582\n",
      "ConstSpeed            309400\n",
      "ConstSpeedOffset      309211\n",
      "RandomSpeed           309009\n",
      "RandomSpeedOffset     308975\n",
      "Disruptive            308960\n",
      "Name: count, dtype: int64\n"
     ]
    }
   ],
   "source": [
    "# Get the count of each unique value in the 'attack_type' column for the Sampled Dataset\n",
    "attack_type_counts_sampled = df_sampled['attack_type'].value_counts()\n",
    "\n",
    "# Print the counts\n",
    "print(attack_type_counts_sampled)"
   ]
  },
  {
   "cell_type": "markdown",
   "metadata": {},
   "source": [
    "Ratio of Count of Each Attack to total Attack for both the Original Dataset and Sampled Dataset"
   ]
  },
  {
   "cell_type": "code",
   "execution_count": 9,
   "metadata": {},
   "outputs": [
    {
     "name": "stdout",
     "output_type": "stream",
     "text": [
      "Percentage of each attack type:\n",
      "attack_type\n",
      "GridSybil             5.623919\n",
      "DoS                   5.543069\n",
      "DoSDisruptive         5.524242\n",
      "DoSRandom             5.518319\n",
      "DoSDisruptiveSybil    5.350166\n",
      "DoSRandomSybil        5.350166\n",
      "DataReplaySybil       5.160778\n",
      "DelayedMessages       5.160778\n",
      "ConstSpeedOffset      5.160778\n",
      "DataReplay            5.160778\n",
      "RandomSpeed           5.160778\n",
      "RandomPosOffset       5.160778\n",
      "RandomPos             5.160778\n",
      "Disruptive            5.160778\n",
      "EventualStop          5.160778\n",
      "ConstPos              5.160778\n",
      "ConstSpeed            5.160778\n",
      "ConstPosOffset        5.160778\n",
      "RandomSpeedOffset     5.160778\n",
      "Name: count, dtype: float64\n"
     ]
    }
   ],
   "source": [
    "# Calculate the ratio of each attack type\n",
    "attack_type_ratio = attack_type_counts / len(df)\n",
    "\n",
    "# Calculate the percentage of each attack type\n",
    "attack_type_percentage = attack_type_ratio * 100\n",
    "\n",
    "# Print the percentages\n",
    "print(\"Percentage of each attack type:\")\n",
    "print(attack_type_percentage)"
   ]
  },
  {
   "cell_type": "code",
   "execution_count": 10,
   "metadata": {},
   "outputs": [
    {
     "name": "stdout",
     "output_type": "stream",
     "text": [
      "Percentage of each attack type:\n",
      "attack_type\n",
      "GridSybil             5.628767\n",
      "DoS                   5.544283\n",
      "DoSDisruptive         5.515233\n",
      "DoSRandom             5.511533\n",
      "DoSDisruptiveSybil    5.356950\n",
      "DoSRandomSybil        5.347683\n",
      "ConstPosOffset        5.177067\n",
      "RandomPosOffset       5.171833\n",
      "DelayedMessages       5.170217\n",
      "DataReplaySybil       5.168267\n",
      "RandomPos             5.165883\n",
      "EventualStop          5.163633\n",
      "ConstPos              5.159700\n",
      "DataReplay            5.159700\n",
      "ConstSpeed            5.156667\n",
      "ConstSpeedOffset      5.153517\n",
      "RandomSpeed           5.150150\n",
      "RandomSpeedOffset     5.149583\n",
      "Disruptive            5.149333\n",
      "Name: count, dtype: float64\n"
     ]
    }
   ],
   "source": [
    "# Calculate the ratio of each attack type\n",
    "attack_type_ratio_sampled = attack_type_counts_sampled / len(df_sampled)\n",
    "\n",
    "# Calculate the percentage of each attack type\n",
    "attack_type_percentage_sampled = attack_type_ratio_sampled * 100\n",
    "\n",
    "# Print the percentages\n",
    "print(\"Percentage of each attack type:\")\n",
    "print(attack_type_percentage_sampled)"
   ]
  }
 ],
 "metadata": {
  "kernelspec": {
   "display_name": "Python 3",
   "language": "python",
   "name": "python3"
  },
  "language_info": {
   "codemirror_mode": {
    "name": "ipython",
    "version": 3
   },
   "file_extension": ".py",
   "mimetype": "text/x-python",
   "name": "python",
   "nbconvert_exporter": "python",
   "pygments_lexer": "ipython3",
   "version": "3.11.4"
  }
 },
 "nbformat": 4,
 "nbformat_minor": 2
}
